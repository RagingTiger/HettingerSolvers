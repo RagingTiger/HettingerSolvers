{
 "cells": [
  {
   "cell_type": "markdown",
   "id": "d0d85eae-ece6-4c9f-95fe-9d8fe6f721ed",
   "metadata": {},
   "source": [
    "*   [Overview](overview.ipynb)\n",
    "*   [Depth First and Breath First Search](puzzle.ipynb)\n",
    "*   [SAT Solvers](einstein.ipynb)\n",
    "*   [Pattern Recognition and Reinforcement Learning](rock_paper.ipynb)\n",
    "*   [SMT and Model Checkers](dining.ipynb)\n",
    "*   [AlphaZero](alpha_zero.ipynb)\n",
    "*   [The Future](philosophy.ipynb)\n",
    "\n",
    "* * *"
   ]
  },
  {
   "cell_type": "markdown",
   "id": "65b5e4fc-a4ae-4219-8236-0870c4c28e7b",
   "metadata": {},
   "source": [
    "Raymond Hettinger – US Pycon 2019[¶](#raymond-hettinger-us-pycon-2019 \"Permalink to this headline\")\n",
    "===================================================================================================\n",
    "\n",
    "My Mission\n",
    "\n",
    "+ Train thousands of Python Programmers\n",
    "\n",
    "Contact Info\n",
    "\n",
    "+ raymond dot hettinger at gmail dot com\n",
    "\n",
    "Company\n",
    "\n",
    "+ Mutable Minds, Inc.\n",
    "\n",
    "Training videos\n",
    "\n",
    "+ Free to user’s of Safari Online: “Modern Python: Big Ideas, Little Code”\n",
    "\n",
    "Twitter Account\n",
    "\n",
    "+ [@raymondh](https://twitter.com/raymondh)\n",
    "\n",
    "Link to the Video for this Presentation\n",
    "\n",
    "+ [https://www.youtube.com/watch?v=\\_GP9OpZPUYc](https://www.youtube.com/watch?v=_GP9OpZPUYc)"
   ]
  },
  {
   "cell_type": "markdown",
   "id": "4e7b1931-9cb8-42f3-b451-72634ac8e258",
   "metadata": {},
   "source": [
    "Modern Solvers: Problems well-defined are problems solved[¶](#modern-solvers-problems-well-defined-are-problems-solved \"Permalink to this headline\")\n",
    "----------------------------------------------------------------------------------------------------------------------------------------------------\n",
    "\n",
    "*   [Overview](overview.ipynb)\n",
    "*   [Depth First and Breath First Search](puzzle.ipynb)\n",
    "*   [SAT Solvers](einstein.ipynb)\n",
    "*   [Pattern Recognition and Reinforcement Learning](rock_paper.ipynb)\n",
    "*   [SMT and Model Checkers](dining.ipynb)\n",
    "*   [AlphaZero](alpha_zero.ipynb)\n",
    "*   [The Future](philosophy.ipynb)"
   ]
  },
  {
   "cell_type": "markdown",
   "id": "c96b2d88-8446-4f4a-970f-e83598821481",
   "metadata": {},
   "source": [
    "| [Next >>>](overview.ipynb \"Overview\") |\n",
    "|               :-:                 |\n",
    "\n",
    "* * *\n",
    "\n",
    "© Copyright 2019, Raymond Hettinger"
   ]
  }
 ],
 "metadata": {
  "kernelspec": {
   "display_name": "Python 3 (ipykernel)",
   "language": "python",
   "name": "python3"
  },
  "language_info": {
   "codemirror_mode": {
    "name": "ipython",
    "version": 3
   },
   "file_extension": ".py",
   "mimetype": "text/x-python",
   "name": "python",
   "nbconvert_exporter": "python",
   "pygments_lexer": "ipython3",
   "version": "3.10.5"
  }
 },
 "nbformat": 4,
 "nbformat_minor": 5
}
