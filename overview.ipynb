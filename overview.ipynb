{
 "cells": [
  {
   "cell_type": "markdown",
   "id": "02f81c21-da2b-40db-b51c-92f5c644973a",
   "metadata": {},
   "source": [
    "*   [Overview](#) <--- (You Are Here)\n",
    "    *   [Where we’re headed](#where-we-re-headed)\n",
    "    *   [Goals](#goals)\n",
    "    *   [What to keep in mind as we explore](#what-to-keep-in-mind-as-we-explore)\n",
    "*   [Depth First and Breath First Search](puzzle.ipynb)\n",
    "*   [SAT Solvers](einstein.ipynb)\n",
    "*   [Pattern Recognition and Reinforcement Learning](rock_paper.ipynb)\n",
    "*   [SMT and Model Checkers](dining.ipynb)\n",
    "*   [AlphaZero](alpha_zero.ipynb)\n",
    "*   [The Future](philosophy.ipynb)\n",
    "\n",
    "* * *"
   ]
  },
  {
   "cell_type": "markdown",
   "id": "330c5cf3-ee4b-4506-b20a-acb7cfeda274",
   "metadata": {},
   "source": [
    "# Overview\n",
    "![_images/STUltimate_11.jpg](_images/STUltimate_11.jpg)\n",
    "\n",
    "My inspiration:\n",
    "\n",
    "> “It is a human mind amplified by the instantaneous relays possible in a computer.” – Lt Cmdr Spock in _The Ultimate Computer_"
   ]
  },
  {
   "cell_type": "markdown",
   "id": "e531648e-a396-44c5-ad59-5d849ca4954f",
   "metadata": {},
   "source": [
    "Where we’re headed[¶](#where-we-re-headed \"Permalink to this headline\")\n",
    "-----------------------------------------------------------------------\n",
    "\n",
    "Using a solver is mostly a matter of specifying a problem and letting a solver find the solution:\n",
    "\n",
    "> **Problems well-defined are problems solved**\n",
    "\n",
    "Some of the techniques are old but have become more nuanced.\n",
    "\n",
    "And with sufficient computation power, a number of hard problems become tractable.\n",
    "\n",
    "Put another way:\n",
    "\n",
    "> In CS and in life, it is often easier to make the rules than it is to find a way to follow them. It is much easier to explain the game of Sudoku to a beginner than it is to solve a difficult puzzle yourself; it is much easier to critique a dish than it is to cook; it is much easier to describe a good human being than it is to be one.\n",
    "> \n",
    "> Surprisingly, however, it turns out that sometimes a problem’s description (in the form of a solution-checking program) is all you need to get a solution! For some problems, with some cleverness, we can automagically turn solution-checker into a solution-finder; that is, we can turn a metaphorical critic into a metaphorical chef.\n",
    "> \n",
    "> —[Kartik Chandra](https://github.com/kach/recreational-rosette)"
   ]
  },
  {
   "cell_type": "markdown",
   "id": "8d2250b2-37dc-433d-b93c-1a8927bfeafa",
   "metadata": {},
   "source": [
    "Goals[¶](#goals \"Permalink to this headline\")\n",
    "---------------------------------------------\n",
    "\n",
    "Show-off Python’s rich capabilities for problem solving:\n",
    "\n",
    "*   Breadth and Depth First Search\n",
    "*   SAT Solvers\n",
    "*   Reinforcement Learning\n",
    "*   Temporal Logic with TLA⁺ and Z3\n",
    "*   Generic MCTS with CNN and Reinforcement Learnig"
   ]
  },
  {
   "cell_type": "markdown",
   "id": "b77de4d9-3efd-4b6b-9e8e-78a6dd16e3c6",
   "metadata": {},
   "source": [
    "What to keep in mind as we explore[¶](#what-to-keep-in-mind-as-we-explore \"Permalink to this headline\")\n",
    "-------------------------------------------------------------------------------------------------------\n",
    "\n",
    "*   How little code in needed to express big ideas.\n",
    "*   How the tooling is generic and pluggable so it can be readily applied to broad class of problems.\n",
    "*   The examples are applied to fun toy problems at the periphery of human capability, so stretch your imagination to harder problems that would work with the same tooling."
   ]
  },
  {
   "cell_type": "markdown",
   "id": "ae988995-17a0-4ac0-a77f-11bb10afb25d",
   "metadata": {},
   "source": [
    "| [<<< Previous](index.ipynb \"Raymond Hettinger – US Pycon 2019\") | [Next >>>](puzzle.ipynb \"Depth First and Breath First Search\") |\n",
    "|            :-:                                                  |                          :-:                                     |                                       \n",
    "* * *\n",
    "\n",
    "© Copyright 2019, Raymond Hettinger"
   ]
  }
 ],
 "metadata": {
  "kernelspec": {
   "display_name": "Python 3 (ipykernel)",
   "language": "python",
   "name": "python3"
  },
  "language_info": {
   "codemirror_mode": {
    "name": "ipython",
    "version": 3
   },
   "file_extension": ".py",
   "mimetype": "text/x-python",
   "name": "python",
   "nbconvert_exporter": "python",
   "pygments_lexer": "ipython3",
   "version": "3.10.5"
  }
 },
 "nbformat": 4,
 "nbformat_minor": 5
}
