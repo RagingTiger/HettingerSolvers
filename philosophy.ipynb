{
 "cells": [
  {
   "cell_type": "markdown",
   "id": "fe517ca2-d040-481e-963f-f88bd1f87861",
   "metadata": {},
   "source": [
    "*   [Overview](overview.ipynb)\n",
    "*   [Depth First and Breath First Search](puzzle.ipynb)\n",
    "*   [SAT Solvers](einstein.ipynb)\n",
    "*   [Pattern Recognition and Reinforcement Learning](rock_paper.ipynb)\n",
    "*   [SMT and Model Checkers](dining.ipynb)\n",
    "*   [AlphaZero](alpha_zero.ipynb)\n",
    "*   [The Future](#) <--- (You Are Here)\n",
    "\n",
    "* * *"
   ]
  },
  {
   "cell_type": "markdown",
   "id": "927f3fc6-ea16-48b1-a23a-26192ff0237b",
   "metadata": {},
   "source": [
    "The Future[¶](#the-future \"Permalink to this headline\")\n",
    "=======================================================\n",
    "\n",
    "Risk of prediction:\n",
    "\n",
    "> “Difficult to predict, the future is, always in motion” – Master Yoda\n",
    "\n",
    "![_images/yoda.jpg](_images/yoda.jpg)\n",
    "\n",
    "Does it end badly?\n",
    "\n",
    "![_images/terminator.jpg](_images/terminator.jpg)\n",
    "\n",
    "Garry Kasparov doesn’t think so.\n",
    "\n",
    "I highly recommend his book, [Deep Thinking](http://www.kasparov.com/deep-thinking-ai/).\n",
    "\n",
    "![_images/deep_thinking.jpg](_images/deep_thinking.jpg)"
   ]
  },
  {
   "cell_type": "markdown",
   "id": "f783afd5-d71e-4ead-bcee-8f25ef6fa5bf",
   "metadata": {},
   "source": [
    "| [<<< Previous](alpha_zero.ipynb \"AlphaZero\") |\n",
    "|                     :-:                      |\n",
    "\n",
    "* * *\n",
    "\n",
    "© Copyright 2019, Raymond Hettinger"
   ]
  }
 ],
 "metadata": {
  "kernelspec": {
   "display_name": "Python 3 (ipykernel)",
   "language": "python",
   "name": "python3"
  },
  "language_info": {
   "codemirror_mode": {
    "name": "ipython",
    "version": 3
   },
   "file_extension": ".py",
   "mimetype": "text/x-python",
   "name": "python",
   "nbconvert_exporter": "python",
   "pygments_lexer": "ipython3",
   "version": "3.10.5"
  }
 },
 "nbformat": 4,
 "nbformat_minor": 5
}
